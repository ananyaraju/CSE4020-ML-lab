{
 "cells": [
  {
   "cell_type": "code",
   "execution_count": 2,
   "id": "0a3351da",
   "metadata": {},
   "outputs": [],
   "source": [
    "import numpy as np\n",
    "from sklearn.linear_model import LinearRegression\n",
    "from sklearn import metrics"
   ]
  },
  {
   "cell_type": "code",
   "execution_count": 17,
   "id": "e9370ac8",
   "metadata": {},
   "outputs": [],
   "source": [
    "X = np.array([[3, 8], [4, 5], [5, 7], [6, 3], [2, 1]])\n",
    "y = np.array([-3.7, 3.5, 2.5, 11.5, 5.7])"
   ]
  },
  {
   "cell_type": "code",
   "execution_count": 18,
   "id": "23e5ed3f",
   "metadata": {},
   "outputs": [],
   "source": [
    "multi_model = LinearRegression()"
   ]
  },
  {
   "cell_type": "code",
   "execution_count": 19,
   "id": "9437ee48",
   "metadata": {},
   "outputs": [
    {
     "data": {
      "text/plain": [
       "LinearRegression()"
      ]
     },
     "execution_count": 19,
     "metadata": {},
     "output_type": "execute_result"
    }
   ],
   "source": [
    "multi_model.fit(X, y)"
   ]
  },
  {
   "cell_type": "code",
   "execution_count": 20,
   "id": "690511a1",
   "metadata": {},
   "outputs": [],
   "source": [
    "y_pred = multi_model.predict(X)"
   ]
  },
  {
   "cell_type": "code",
   "execution_count": 21,
   "id": "0b5f007c",
   "metadata": {},
   "outputs": [],
   "source": [
    "mae = metrics.mean_absolute_error(y, y_pred)\n",
    "mse = metrics.mean_squared_error(y, y_pred)\n",
    "rmse = np.sqrt(mse)"
   ]
  },
  {
   "cell_type": "code",
   "execution_count": 22,
   "id": "682749dd",
   "metadata": {},
   "outputs": [
    {
     "name": "stdout",
     "output_type": "stream",
     "text": [
      "Mean Absolute Error: 0.027435736677116206\n",
      "Mean Squared Error: 0.0012338557993730325\n",
      "Root Mean Squared Error: 0.03512628359751473\n"
     ]
    }
   ],
   "source": [
    "print(f'Mean Absolute Error: {mae}')\n",
    "print(f'Mean Squared Error: {mse}')\n",
    "print(f'Root Mean Squared Error: {rmse}')"
   ]
  },
  {
   "cell_type": "code",
   "execution_count": 23,
   "id": "b63ca494",
   "metadata": {},
   "outputs": [
    {
     "name": "stdout",
     "output_type": "stream",
     "text": [
      "Coefficients: [ 2.28163009 -1.67210031]\n",
      "Intercept: 2.7995611285266455\n"
     ]
    }
   ],
   "source": [
    "print(f'Coefficients: {multi_model.coef_}')\n",
    "print(f'Intercept: {multi_model.intercept_}')"
   ]
  },
  {
   "cell_type": "code",
   "execution_count": null,
   "id": "79ad17b2",
   "metadata": {},
   "outputs": [],
   "source": []
  }
 ],
 "metadata": {
  "kernelspec": {
   "display_name": "Python 3 (ipykernel)",
   "language": "python",
   "name": "python3"
  },
  "language_info": {
   "codemirror_mode": {
    "name": "ipython",
    "version": 3
   },
   "file_extension": ".py",
   "mimetype": "text/x-python",
   "name": "python",
   "nbconvert_exporter": "python",
   "pygments_lexer": "ipython3",
   "version": "3.9.13"
  }
 },
 "nbformat": 4,
 "nbformat_minor": 5
}
