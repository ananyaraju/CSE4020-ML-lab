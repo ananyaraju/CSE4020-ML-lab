{
 "cells": [
  {
   "cell_type": "code",
   "execution_count": 103,
   "id": "d2ff818b",
   "metadata": {},
   "outputs": [],
   "source": [
    "import numpy as np\n",
    "import pandas as pd"
   ]
  },
  {
   "cell_type": "code",
   "execution_count": 104,
   "id": "9a740b74",
   "metadata": {},
   "outputs": [],
   "source": [
    "x1, x2 = 0.35, 0.9\n",
    "actual_output = 0.5\n",
    "w13, w14, w23, w24, w35, w45 = 0.1, 0.4, 0.8, 0.6, 0.3, 0.9\n",
    "learning_rate = 1.0\n",
    "epochs = 1"
   ]
  },
  {
   "cell_type": "code",
   "execution_count": 105,
   "id": "bc9b7a3f",
   "metadata": {},
   "outputs": [],
   "source": [
    "def sigmoid(x):\n",
    "    return 1/(1+np.exp(-x))"
   ]
  },
  {
   "cell_type": "code",
   "execution_count": 106,
   "id": "3f1ccfca",
   "metadata": {},
   "outputs": [],
   "source": [
    "for epoch in range(epochs):\n",
    "    \n",
    "    h3_input = x1*w13 + x2*w23\n",
    "    h4_input = x1*w14 + x2*w24\n",
    "    \n",
    "    y3 = sigmoid(h3_input)\n",
    "    y4 = sigmoid(h4_input)\n",
    "    \n",
    "    o5 = y3*w35 + y4*w45\n",
    "    op = sigmoid(o5)\n",
    "    \n",
    "    error = actual_output - op\n",
    "    \n",
    "    delta_x5 = op * (1-op) * (error)\n",
    "    delta_x3 = y3 * (1-y3) * (w35*delta_x5)\n",
    "    delta_x4 = y4 * (1-y4) * (w45*delta_x5)\n",
    "    \n",
    "    w13 += learning_rate * delta_x3 * x1\n",
    "    w14 += learning_rate * delta_x4 * x1\n",
    "    w23 += learning_rate * delta_x3 * x2\n",
    "    w24 += learning_rate * delta_x4 * x2\n",
    "    w35 += learning_rate * delta_x5 * y3\n",
    "    w45 += learning_rate * delta_x5 * y4"
   ]
  },
  {
   "cell_type": "code",
   "execution_count": 107,
   "id": "9a94b290",
   "metadata": {},
   "outputs": [
    {
     "data": {
      "text/plain": [
       "0.7550000000000001"
      ]
     },
     "execution_count": 107,
     "metadata": {},
     "output_type": "execute_result"
    }
   ],
   "source": [
    "h3_input"
   ]
  },
  {
   "cell_type": "code",
   "execution_count": 108,
   "id": "0430749a",
   "metadata": {},
   "outputs": [
    {
     "name": "stdout",
     "output_type": "stream",
     "text": [
      "0.09907092883919034\n",
      "0.39713992422755456\n",
      "0.7976109598722038\n",
      "0.592645519442283\n",
      "0.27232596506128215\n",
      "0.8729983630089926\n"
     ]
    }
   ],
   "source": [
    "print(w13)\n",
    "print(w14)\n",
    "print(w23)\n",
    "print(w24)\n",
    "print(w35)\n",
    "print(w45)"
   ]
  },
  {
   "cell_type": "code",
   "execution_count": null,
   "id": "c9ae10e6",
   "metadata": {},
   "outputs": [],
   "source": []
  }
 ],
 "metadata": {
  "kernelspec": {
   "display_name": "Python 3 (ipykernel)",
   "language": "python",
   "name": "python3"
  },
  "language_info": {
   "codemirror_mode": {
    "name": "ipython",
    "version": 3
   },
   "file_extension": ".py",
   "mimetype": "text/x-python",
   "name": "python",
   "nbconvert_exporter": "python",
   "pygments_lexer": "ipython3",
   "version": "3.9.13"
  }
 },
 "nbformat": 4,
 "nbformat_minor": 5
}
