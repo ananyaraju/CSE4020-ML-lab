{
 "cells": [
  {
   "cell_type": "code",
   "execution_count": 1,
   "id": "7efd437e",
   "metadata": {},
   "outputs": [],
   "source": [
    "import numpy as np"
   ]
  },
  {
   "cell_type": "code",
   "execution_count": 2,
   "id": "610c6524",
   "metadata": {},
   "outputs": [],
   "source": [
    "# Sample data (4 data points with 2 features)\n",
    "data = np.array([[1, 2], [2, 3], [3, 4], [4, 5]])"
   ]
  },
  {
   "cell_type": "code",
   "execution_count": 3,
   "id": "0f2e6278",
   "metadata": {},
   "outputs": [],
   "source": [
    "# Step 1: Calculate the mean of the data for feature scaling\n",
    "mean = np.mean(data, axis=0)"
   ]
  },
  {
   "cell_type": "code",
   "execution_count": 4,
   "id": "303b0fdb",
   "metadata": {},
   "outputs": [],
   "source": [
    "# Step 2: Center the data by subtracting the mean\n",
    "centered_data = data - mean"
   ]
  },
  {
   "cell_type": "code",
   "execution_count": 5,
   "id": "3d852a63",
   "metadata": {},
   "outputs": [],
   "source": [
    "# Step 3: Calculate the covariance matrix\n",
    "covariance_matrix = np.cov(centered_data, rowvar=False)"
   ]
  },
  {
   "cell_type": "code",
   "execution_count": 6,
   "id": "7b2938a6",
   "metadata": {},
   "outputs": [],
   "source": [
    "# Step 4: Calculate eigenvalues and eigenvectors of the covariance matrix\n",
    "eigenvalues, eigenvectors = np.linalg.eig(covariance_matrix)"
   ]
  },
  {
   "cell_type": "code",
   "execution_count": 7,
   "id": "fd3f485d",
   "metadata": {},
   "outputs": [],
   "source": [
    "# Step 5: Sort eigenvectors by eigenvalues in descending order\n",
    "eigen_pairs = [(np.abs(eigenvalues[i]), eigenvectors[:, i]) for i in range(len(eigenvalues))]\n",
    "eigen_pairs.sort(key=lambda x: x[0], reverse=True)"
   ]
  },
  {
   "cell_type": "code",
   "execution_count": 8,
   "id": "ff32f254",
   "metadata": {},
   "outputs": [],
   "source": [
    "# Step 6: Choose the top principal component(s)\n",
    "k = 1  # Reducing dimensionality to 1\n",
    "top_eigenvector = eigen_pairs[0][1]"
   ]
  },
  {
   "cell_type": "code",
   "execution_count": 9,
   "id": "fcc0436c",
   "metadata": {},
   "outputs": [],
   "source": [
    "# Step 7: Project the data onto the top principal component\n",
    "reduced_data = centered_data.dot(top_eigenvector)"
   ]
  },
  {
   "cell_type": "code",
   "execution_count": 10,
   "id": "e62382a4",
   "metadata": {},
   "outputs": [
    {
     "name": "stdout",
     "output_type": "stream",
     "text": [
      "Reduced data (dimensionality reduced to 1):\n",
      "[-2.12132034 -0.70710678  0.70710678  2.12132034]\n"
     ]
    }
   ],
   "source": [
    "# Print the reduced data\n",
    "print(\"Reduced data (dimensionality reduced to 1):\")\n",
    "print(reduced_data)"
   ]
  },
  {
   "cell_type": "code",
   "execution_count": 12,
   "id": "01c58cb0",
   "metadata": {},
   "outputs": [
    {
     "name": "stdout",
     "output_type": "stream",
     "text": [
      "Reduced data (dimensionality reduced to 1):\n",
      "[[ 2.12132034]\n",
      " [ 0.70710678]\n",
      " [-0.70710678]\n",
      " [-2.12132034]]\n"
     ]
    }
   ],
   "source": [
    "## INBUILT FUNCTION FOR PCA\n",
    "\n",
    "from sklearn.decomposition import PCA\n",
    "\n",
    "# Sample data (4 data points with 2 features)\n",
    "data = [[1, 2], [2, 3], [3, 4], [4, 5]]\n",
    "\n",
    "# Create a PCA object and specify the number of components\n",
    "pca = PCA(n_components=1)\n",
    "\n",
    "# Fit the PCA model and transform the data\n",
    "reduced_data = pca.fit_transform(data)\n",
    "\n",
    "# Print the reduced data\n",
    "print(\"Reduced data (dimensionality reduced to 1):\")\n",
    "print(reduced_data)\n"
   ]
  },
  {
   "cell_type": "code",
   "execution_count": null,
   "id": "8a9fb782",
   "metadata": {},
   "outputs": [],
   "source": []
  }
 ],
 "metadata": {
  "kernelspec": {
   "display_name": "Python 3 (ipykernel)",
   "language": "python",
   "name": "python3"
  },
  "language_info": {
   "codemirror_mode": {
    "name": "ipython",
    "version": 3
   },
   "file_extension": ".py",
   "mimetype": "text/x-python",
   "name": "python",
   "nbconvert_exporter": "python",
   "pygments_lexer": "ipython3",
   "version": "3.9.13"
  }
 },
 "nbformat": 4,
 "nbformat_minor": 5
}
