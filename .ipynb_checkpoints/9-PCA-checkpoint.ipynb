{
 "cells": [
  {
   "cell_type": "code",
   "execution_count": 1,
   "id": "7efd437e",
   "metadata": {},
   "outputs": [],
   "source": [
    "import numpy as np"
   ]
  },
  {
   "cell_type": "code",
   "execution_count": 2,
   "id": "610c6524",
   "metadata": {},
   "outputs": [],
   "source": [
    "# Sample data (4 data points with 2 features)\n",
    "data = np.array([[4, 11], [8, 4], [13, 5], [7, 14]])"
   ]
  },
  {
   "cell_type": "code",
   "execution_count": 14,
   "id": "0f2e6278",
   "metadata": {},
   "outputs": [
    {
     "data": {
      "text/plain": [
       "array([8. , 8.5])"
      ]
     },
     "execution_count": 14,
     "metadata": {},
     "output_type": "execute_result"
    }
   ],
   "source": [
    "# Step 1: Calculate the mean of the data for feature scaling\n",
    "mean = np.mean(data, axis=0)\n",
    "mean"
   ]
  },
  {
   "cell_type": "code",
   "execution_count": 5,
   "id": "303b0fdb",
   "metadata": {},
   "outputs": [],
   "source": [
    "# Step 2: Center the data by subtracting the mean\n",
    "centered_data = data - mean"
   ]
  },
  {
   "cell_type": "code",
   "execution_count": 6,
   "id": "3d852a63",
   "metadata": {},
   "outputs": [],
   "source": [
    "# Step 3: Calculate the covariance matrix\n",
    "covariance_matrix = np.cov(centered_data, rowvar=False)"
   ]
  },
  {
   "cell_type": "code",
   "execution_count": 7,
   "id": "7b2938a6",
   "metadata": {},
   "outputs": [],
   "source": [
    "# Step 4: Calculate eigenvalues and eigenvectors of the covariance matrix\n",
    "eigenvalues, eigenvectors = np.linalg.eig(covariance_matrix)"
   ]
  },
  {
   "cell_type": "code",
   "execution_count": 18,
   "id": "1965a7d0",
   "metadata": {},
   "outputs": [
    {
     "data": {
      "text/plain": [
       "array([ 6.61513568, 30.38486432])"
      ]
     },
     "execution_count": 18,
     "metadata": {},
     "output_type": "execute_result"
    }
   ],
   "source": [
    "eigenvalues"
   ]
  },
  {
   "cell_type": "code",
   "execution_count": 16,
   "id": "7831c518",
   "metadata": {
    "scrolled": true
   },
   "outputs": [
    {
     "data": {
      "text/plain": [
       "array([[-0.83025082,  0.55738997],\n",
       "       [-0.55738997, -0.83025082]])"
      ]
     },
     "execution_count": 16,
     "metadata": {},
     "output_type": "execute_result"
    }
   ],
   "source": [
    "eigenvectors"
   ]
  },
  {
   "cell_type": "code",
   "execution_count": 8,
   "id": "fd3f485d",
   "metadata": {},
   "outputs": [],
   "source": [
    "# Step 5: Sort eigenvectors by eigenvalues in descending order\n",
    "eigen_pairs = [(np.abs(eigenvalues[i]), eigenvectors[:, i]) for i in range(len(eigenvalues))]\n",
    "eigen_pairs.sort(key=lambda x: x[0], reverse=True)"
   ]
  },
  {
   "cell_type": "code",
   "execution_count": 17,
   "id": "fe50a6f5",
   "metadata": {},
   "outputs": [
    {
     "data": {
      "text/plain": [
       "[(30.384864324004713, array([ 0.55738997, -0.83025082])),\n",
       " (6.615135675995287, array([-0.83025082, -0.55738997]))]"
      ]
     },
     "execution_count": 17,
     "metadata": {},
     "output_type": "execute_result"
    }
   ],
   "source": [
    "eigen_pairs"
   ]
  },
  {
   "cell_type": "code",
   "execution_count": 15,
   "id": "ff32f254",
   "metadata": {},
   "outputs": [
    {
     "data": {
      "text/plain": [
       "array([ 0.55738997, -0.83025082])"
      ]
     },
     "execution_count": 15,
     "metadata": {},
     "output_type": "execute_result"
    }
   ],
   "source": [
    "# Step 6: Choose the top principal component(s)\n",
    "k = 1  # Reducing dimensionality to 1\n",
    "top_eigenvector = eigen_pairs[0][1]\n",
    "top_eigenvector"
   ]
  },
  {
   "cell_type": "code",
   "execution_count": 20,
   "id": "4c0257e8",
   "metadata": {},
   "outputs": [
    {
     "data": {
      "text/plain": [
       "array([[-4. ,  2.5],\n",
       "       [ 0. , -4.5],\n",
       "       [ 5. , -3.5],\n",
       "       [-1. ,  5.5]])"
      ]
     },
     "execution_count": 20,
     "metadata": {},
     "output_type": "execute_result"
    }
   ],
   "source": [
    "centered_data"
   ]
  },
  {
   "cell_type": "code",
   "execution_count": 10,
   "id": "fcc0436c",
   "metadata": {},
   "outputs": [],
   "source": [
    "# Step 7: Project the data onto the top principal component\n",
    "reduced_data = centered_data.dot(top_eigenvector)"
   ]
  },
  {
   "cell_type": "code",
   "execution_count": 11,
   "id": "e62382a4",
   "metadata": {},
   "outputs": [
    {
     "name": "stdout",
     "output_type": "stream",
     "text": [
      "Reduced data (dimensionality reduced to 1):\n",
      "[-4.30518692  3.73612869  5.69282771 -5.12376947]\n"
     ]
    }
   ],
   "source": [
    "# Print the reduced data\n",
    "print(\"Reduced data (dimensionality reduced to 1):\")\n",
    "print(reduced_data)"
   ]
  },
  {
   "cell_type": "code",
   "execution_count": 13,
   "id": "01c58cb0",
   "metadata": {},
   "outputs": [
    {
     "name": "stdout",
     "output_type": "stream",
     "text": [
      "Reduced data (dimensionality reduced to 1):\n",
      "[[-4.30518692]\n",
      " [ 3.73612869]\n",
      " [ 5.69282771]\n",
      " [-5.12376947]]\n"
     ]
    }
   ],
   "source": [
    "## INBUILT FUNCTION FOR PCA [CROSS CHECKING]\n",
    "\n",
    "from sklearn.decomposition import PCA\n",
    "\n",
    "# Sample data (4 data points with 2 features)\n",
    "data = np.array([[4, 11], [8, 4], [13, 5], [7, 14]])\n",
    "\n",
    "# Create a PCA object and specify the number of components\n",
    "pca = PCA(n_components=1)\n",
    "\n",
    "# Fit the PCA model and transform the data\n",
    "reduced_data = pca.fit_transform(data)\n",
    "\n",
    "# Print the reduced data\n",
    "print(\"Reduced data (dimensionality reduced to 1):\")\n",
    "print(reduced_data)\n"
   ]
  },
  {
   "cell_type": "code",
   "execution_count": null,
   "id": "8a9fb782",
   "metadata": {},
   "outputs": [],
   "source": []
  }
 ],
 "metadata": {
  "kernelspec": {
   "display_name": "Python 3 (ipykernel)",
   "language": "python",
   "name": "python3"
  },
  "language_info": {
   "codemirror_mode": {
    "name": "ipython",
    "version": 3
   },
   "file_extension": ".py",
   "mimetype": "text/x-python",
   "name": "python",
   "nbconvert_exporter": "python",
   "pygments_lexer": "ipython3",
   "version": "3.9.13"
  }
 },
 "nbformat": 4,
 "nbformat_minor": 5
}
