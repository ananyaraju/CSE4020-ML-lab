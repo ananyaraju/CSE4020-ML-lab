{
 "cells": [
  {
   "cell_type": "code",
   "execution_count": 2,
   "id": "aa432dbf-fdcf-4068-9607-5d9ea1255f4d",
   "metadata": {},
   "outputs": [],
   "source": [
    "import pandas as pd\n",
    "import numpy as np"
   ]
  },
  {
   "cell_type": "code",
   "execution_count": 3,
   "id": "cd922f35-5b56-4ae4-88f3-52d344d37a90",
   "metadata": {},
   "outputs": [],
   "source": [
    "X = np.array([-1, 0, 1, 2])\n",
    "y = np.array([0, 2, 4, 5])"
   ]
  },
  {
   "cell_type": "code",
   "execution_count": 4,
   "id": "6d9097e3-9c9b-44c3-ae77-f10113968e7d",
   "metadata": {},
   "outputs": [],
   "source": [
    "X_mean = X.mean()\n",
    "y_mean = y.mean()"
   ]
  },
  {
   "cell_type": "code",
   "execution_count": 5,
   "id": "e0a8e434-53d5-4ea7-b852-f99bca96b026",
   "metadata": {},
   "outputs": [],
   "source": [
    "numerator = ((X - X_mean) * (y - y_mean)).sum()\n",
    "denominator = ((X - X_mean) ** 2).sum()\n",
    "coefficient = numerator / denominator"
   ]
  },
  {
   "cell_type": "code",
   "execution_count": 6,
   "id": "49aefced-04c0-45c3-946e-143b00bc7843",
   "metadata": {},
   "outputs": [],
   "source": [
    "intercept = y_mean - coefficient * X_mean"
   ]
  },
  {
   "cell_type": "code",
   "execution_count": 7,
   "id": "2341f7e2-4df4-4bbd-b8d8-51bbf603144f",
   "metadata": {},
   "outputs": [
    {
     "name": "stdout",
     "output_type": "stream",
     "text": [
      "Coefficient: 1.7\n",
      "Intercept: 1.9\n"
     ]
    }
   ],
   "source": [
    "print(\"Coefficient:\", coefficient)\n",
    "print(\"Intercept:\", intercept)"
   ]
  },
  {
   "cell_type": "code",
   "execution_count": 8,
   "id": "d33dfc76-297e-459e-b33c-83c3f4959a2e",
   "metadata": {},
   "outputs": [],
   "source": [
    "y_pred = coefficient * X + intercept"
   ]
  },
  {
   "cell_type": "code",
   "execution_count": 9,
   "id": "7c1b288c",
   "metadata": {},
   "outputs": [],
   "source": [
    "mse = ((y - y_pred) ** 2).mean()\n",
    "\n",
    "rmse = mse ** 0.5\n",
    "\n",
    "ss_total = ((y - y_mean) ** 2).sum()\n",
    "ss_residual = ((y - y_pred) ** 2).sum()\n",
    "r2 = 1 - (ss_residual / ss_total)"
   ]
  },
  {
   "cell_type": "code",
   "execution_count": 10,
   "id": "470b9fa7-68f7-451d-8905-6e30c76a50b3",
   "metadata": {},
   "outputs": [
    {
     "name": "stdout",
     "output_type": "stream",
     "text": [
      "Mean Squared Error (MSE): 0.07500000000000004\n",
      "Root Mean Squared Error (RMSE): 0.27386127875258315\n",
      "R-squared (R²): 0.9796610169491525\n"
     ]
    }
   ],
   "source": [
    "print(\"Mean Squared Error (MSE):\", mse)\n",
    "print(\"Root Mean Squared Error (RMSE):\", rmse)\n",
    "print(\"R-squared (R²):\", r2)"
   ]
  },
  {
   "cell_type": "code",
   "execution_count": null,
   "id": "02269a17",
   "metadata": {},
   "outputs": [],
   "source": []
  }
 ],
 "metadata": {
  "kernelspec": {
   "display_name": "Python 3 (ipykernel)",
   "language": "python",
   "name": "python3"
  },
  "language_info": {
   "codemirror_mode": {
    "name": "ipython",
    "version": 3
   },
   "file_extension": ".py",
   "mimetype": "text/x-python",
   "name": "python",
   "nbconvert_exporter": "python",
   "pygments_lexer": "ipython3",
   "version": "3.9.13"
  }
 },
 "nbformat": 4,
 "nbformat_minor": 5
}
