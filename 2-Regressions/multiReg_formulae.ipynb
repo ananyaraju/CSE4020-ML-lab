{
 "cells": [
  {
   "cell_type": "code",
   "execution_count": 2,
   "id": "aa432dbf-fdcf-4068-9607-5d9ea1255f4d",
   "metadata": {},
   "outputs": [],
   "source": [
    "import numpy as np \n",
    "import pandas as pd"
   ]
  },
  {
   "cell_type": "code",
   "execution_count": 3,
   "id": "cd922f35-5b56-4ae4-88f3-52d344d37a90",
   "metadata": {},
   "outputs": [],
   "source": [
    "x1 = np.array([3, 4, 5, 6, 2])\n",
    "x2 = np.array([8, 5, 7, 3, 1])\n",
    "y = np.array([-3.7, 3.5, 2.5, 11.5, 5.7])"
   ]
  },
  {
   "cell_type": "code",
   "execution_count": 10,
   "id": "6d9097e3-9c9b-44c3-ae77-f10113968e7d",
   "metadata": {},
   "outputs": [],
   "source": [
    "x1sum = np.sum(x1)\n",
    "x2sum = np.sum(x2)\n",
    "ysum = np.sum(y)\n",
    "x1square = np.sum(x1**2)\n",
    "x2square = np.sum(x2**2)\n",
    "x1y = np.sum(x1*y)\n",
    "x2y = np.sum(x2*y)\n",
    "x1x2 = np.sum(x1*x2)"
   ]
  },
  {
   "cell_type": "code",
   "execution_count": 5,
   "id": "ca924b47",
   "metadata": {},
   "outputs": [],
   "source": [
    "rs_x1square = x1square - x1sum ** 2 / 5\n",
    "rs_x2square = x2square - x2sum ** 2 / 5\n",
    "rs_x1y = x1y - x1sum*ysum / 5\n",
    "rs_x2y = x2y - x2sum*ysum / 5\n",
    "rs_x1x2 = x1x2 - x1sum*x2sum / 5"
   ]
  },
  {
   "cell_type": "code",
   "execution_count": 6,
   "id": "6eb39378",
   "metadata": {},
   "outputs": [
    {
     "data": {
      "text/plain": [
       "10.0"
      ]
     },
     "execution_count": 6,
     "metadata": {},
     "output_type": "execute_result"
    }
   ],
   "source": [
    "rs_x1square"
   ]
  },
  {
   "cell_type": "code",
   "execution_count": 5,
   "id": "e0a8e434-53d5-4ea7-b852-f99bca96b026",
   "metadata": {},
   "outputs": [],
   "source": [
    "b1_num = rs_x2square * rs_x1y - rs_x1x2 * rs_x2y\n",
    "b2_num = rs_x1square * rs_x2y - rs_x1x2 * rs_x1y\n",
    "den = rs_x1square*rs_x2square - rs_x1x2 ** 2"
   ]
  },
  {
   "cell_type": "code",
   "execution_count": 6,
   "id": "c4b2f1cb",
   "metadata": {},
   "outputs": [
    {
     "data": {
      "text/plain": [
       "2.2816300940438885"
      ]
     },
     "execution_count": 6,
     "metadata": {},
     "output_type": "execute_result"
    }
   ],
   "source": [
    "b1 = b1_num / den\n",
    "b1"
   ]
  },
  {
   "cell_type": "code",
   "execution_count": 7,
   "id": "cb3235dd",
   "metadata": {},
   "outputs": [
    {
     "data": {
      "text/plain": [
       "-1.6721003134796237"
      ]
     },
     "execution_count": 7,
     "metadata": {},
     "output_type": "execute_result"
    }
   ],
   "source": [
    "b2 = b2_num / den\n",
    "b2"
   ]
  },
  {
   "cell_type": "code",
   "execution_count": 8,
   "id": "2a61d854",
   "metadata": {},
   "outputs": [
    {
     "data": {
      "text/plain": [
       "2.7995611285266406"
      ]
     },
     "execution_count": 8,
     "metadata": {},
     "output_type": "execute_result"
    }
   ],
   "source": [
    "b0 = y.mean() - b1 * x1.mean() - b2 * x2.mean()\n",
    "b0"
   ]
  },
  {
   "cell_type": "code",
   "execution_count": 9,
   "id": "79216453",
   "metadata": {},
   "outputs": [
    {
     "name": "stdout",
     "output_type": "stream",
     "text": [
      "Equation: \n",
      "y =  2.7995611285266406 + 2.2816300940438885 * x1  -1.6721003134796237 * x2\n"
     ]
    }
   ],
   "source": [
    "print(\"Equation: \")\n",
    "print(\"y = \", b0, \"+\", b1, \"* x1 \", b2, \"* x2\")"
   ]
  },
  {
   "cell_type": "code",
   "execution_count": null,
   "id": "43248583",
   "metadata": {},
   "outputs": [],
   "source": []
  }
 ],
 "metadata": {
  "kernelspec": {
   "display_name": "Python 3 (ipykernel)",
   "language": "python",
   "name": "python3"
  },
  "language_info": {
   "codemirror_mode": {
    "name": "ipython",
    "version": 3
   },
   "file_extension": ".py",
   "mimetype": "text/x-python",
   "name": "python",
   "nbconvert_exporter": "python",
   "pygments_lexer": "ipython3",
   "version": "3.9.13"
  }
 },
 "nbformat": 4,
 "nbformat_minor": 5
}
