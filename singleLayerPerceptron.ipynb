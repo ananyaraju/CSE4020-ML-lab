{
 "cells": [
  {
   "cell_type": "code",
   "execution_count": 1,
   "id": "73337b52",
   "metadata": {},
   "outputs": [],
   "source": [
    "import numpy as np"
   ]
  },
  {
   "cell_type": "code",
   "execution_count": 2,
   "id": "a5b13561",
   "metadata": {},
   "outputs": [],
   "source": [
    "# Define the AND gate truth table\n",
    "input_data = np.array([[0, 0], [0, 1], [1, 0], [1, 1]])\n",
    "output_data = np.array([0, 1, 1, 1])"
   ]
  },
  {
   "cell_type": "code",
   "execution_count": 3,
   "id": "4fe98d49",
   "metadata": {},
   "outputs": [],
   "source": [
    "# Initialize weights and bias\n",
    "weights = np.array([0.6, 0.6, 0])  # Updated weights\n",
    "bias = 0  # Updated bias\n",
    "learning_rate = 0.5\n",
    "\n",
    "# Define the threshold\n",
    "threshold = 1"
   ]
  },
  {
   "cell_type": "code",
   "execution_count": 4,
   "id": "72044d63",
   "metadata": {},
   "outputs": [
    {
     "name": "stdout",
     "output_type": "stream",
     "text": [
      "Training converged after 2 epochs.\n"
     ]
    }
   ],
   "source": [
    "# Define the activation function (Step function)\n",
    "def activate(x):\n",
    "    return 1 if x >= threshold else 0\n",
    "\n",
    "# Training the perceptron\n",
    "epochs = 10  # Number of training epochs\n",
    "\n",
    "for epoch in range(epochs):\n",
    "    error_sum = 0\n",
    "    for i in range(len(input_data)):\n",
    "        # Calculate the weighted sum\n",
    "        weighted_sum = np.dot(np.append(input_data[i], bias), weights)\n",
    "        # Calculate the output (activation)\n",
    "        output = activate(weighted_sum)\n",
    "        # Calculate the error\n",
    "        error = output_data[i] - output\n",
    "        # Update the weights and bias\n",
    "        weights += learning_rate * error * np.append(input_data[i], bias)\n",
    "        # Accumulate the error for this epoch\n",
    "        error_sum += abs(error)\n",
    "    # Check if all training examples were correctly classified\n",
    "    if error_sum == 0:\n",
    "        print(f\"Training converged after {epoch + 1} epochs.\")\n",
    "        break"
   ]
  },
  {
   "cell_type": "code",
   "execution_count": 5,
   "id": "9515b825",
   "metadata": {},
   "outputs": [
    {
     "name": "stdout",
     "output_type": "stream",
     "text": [
      "Final weights after training:\n",
      "Weight 1: 1.10\n",
      "Weight 2: 1.10\n",
      "Weight 3: 0.00\n"
     ]
    }
   ],
   "source": [
    "# Print the final weights\n",
    "print(\"Final weights after training:\")\n",
    "for i, w in enumerate(weights):\n",
    "    print(f\"Weight {i+1}: {w:.2f}\")"
   ]
  },
  {
   "cell_type": "code",
   "execution_count": 6,
   "id": "1b41c9c6",
   "metadata": {},
   "outputs": [
    {
     "name": "stdout",
     "output_type": "stream",
     "text": [
      "Testing the perceptron with the OR gate:\n",
      "Input: [0 0], Output: 0\n",
      "Input: [0 1], Output: 1\n",
      "Input: [1 0], Output: 1\n",
      "Input: [1 1], Output: 1\n"
     ]
    }
   ],
   "source": [
    "# Test the perceptron with the AND gate\n",
    "print(\"Testing the perceptron with the OR gate:\")\n",
    "for i in range(len(input_data)):\n",
    "    weighted_sum = np.dot(np.append(input_data[i], bias), weights)\n",
    "    output = activate(weighted_sum)\n",
    "    print(f\"Input: {input_data[i]}, Output: {output}\")"
   ]
  },
  {
   "cell_type": "code",
   "execution_count": null,
   "id": "2dd34a10",
   "metadata": {},
   "outputs": [],
   "source": []
  }
 ],
 "metadata": {
  "kernelspec": {
   "display_name": "Python 3 (ipykernel)",
   "language": "python",
   "name": "python3"
  },
  "language_info": {
   "codemirror_mode": {
    "name": "ipython",
    "version": 3
   },
   "file_extension": ".py",
   "mimetype": "text/x-python",
   "name": "python",
   "nbconvert_exporter": "python",
   "pygments_lexer": "ipython3",
   "version": "3.9.13"
  }
 },
 "nbformat": 4,
 "nbformat_minor": 5
}
