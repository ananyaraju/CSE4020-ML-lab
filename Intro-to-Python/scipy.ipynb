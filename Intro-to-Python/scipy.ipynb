{
 "cells": [
  {
   "cell_type": "code",
   "execution_count": 2,
   "id": "7dcaffc0",
   "metadata": {},
   "outputs": [
    {
     "name": "stdout",
     "output_type": "stream",
     "text": [
      "  (0, 5)\t1\n",
      "  (0, 6)\t1\n",
      "  (0, 8)\t2\n"
     ]
    }
   ],
   "source": [
    "#parse Example 1\n",
    "#CSR - Compressed Sparse Row. For fast row slicing, faster matrix vector products\n",
    "import numpy as np\n",
    "from scipy.sparse import csr_matrix\n",
    "arr = np.array([0, 0, 0, 0, 0, 1, 1, 0, 2])\n",
    "print(csr_matrix(arr))"
   ]
  },
  {
   "cell_type": "code",
   "execution_count": 4,
   "id": "042bbbd1",
   "metadata": {},
   "outputs": [
    {
     "name": "stdout",
     "output_type": "stream",
     "text": [
      "[[1. 0. 0. 0.]\n",
      " [0. 1. 0. 0.]\n",
      " [0. 0. 1. 0.]\n",
      " [0. 0. 0. 1.]]\n"
     ]
    }
   ],
   "source": [
    "#parse Example 2\n",
    "#create a 2d numpy array with diagonal of ones and zro everywhere\n",
    "from scipy import sparse\n",
    "eye=np.eye(4)\n",
    "print(eye)"
   ]
  },
  {
   "cell_type": "code",
   "execution_count": 5,
   "id": "b43ada7c",
   "metadata": {},
   "outputs": [
    {
     "name": "stdout",
     "output_type": "stream",
     "text": [
      "  (0, 0)\t1.0\n",
      "  (1, 1)\t1.0\n",
      "  (2, 2)\t1.0\n",
      "  (3, 3)\t1.0\n"
     ]
    }
   ],
   "source": [
    "#parse Example 3\n",
    "#convert the numpy array to a scipy sparse matrix in CSR format\n",
    "#only non zero entries are stored\n",
    "sparse_matrix = sparse.csr_matrix(eye)\n",
    "print(sparse_matrix)"
   ]
  },
  {
   "cell_type": "code",
   "execution_count": null,
   "id": "259d1133",
   "metadata": {},
   "outputs": [],
   "source": []
  }
 ],
 "metadata": {
  "kernelspec": {
   "display_name": "Python 3 (ipykernel)",
   "language": "python",
   "name": "python3"
  },
  "language_info": {
   "codemirror_mode": {
    "name": "ipython",
    "version": 3
   },
   "file_extension": ".py",
   "mimetype": "text/x-python",
   "name": "python",
   "nbconvert_exporter": "python",
   "pygments_lexer": "ipython3",
   "version": "3.9.13"
  }
 },
 "nbformat": 4,
 "nbformat_minor": 5
}
