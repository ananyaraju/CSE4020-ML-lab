{
 "cells": [
  {
   "cell_type": "code",
   "execution_count": 1,
   "id": "67c09bc5",
   "metadata": {},
   "outputs": [],
   "source": [
    "import pandas as pd\n",
    "import numpy as np\n",
    "import math"
   ]
  },
  {
   "cell_type": "code",
   "execution_count": 2,
   "id": "cb386c00",
   "metadata": {},
   "outputs": [
    {
     "data": {
      "text/plain": [
       "array([[1., 1.],\n",
       "       [2., 4.],\n",
       "       [3., 9.],\n",
       "       [4., 6.],\n",
       "       [4., 3.]])"
      ]
     },
     "execution_count": 2,
     "metadata": {},
     "output_type": "execute_result"
    }
   ],
   "source": [
    "array = np.array([\n",
    "[1, 1],\n",
    "[2, 4],\n",
    "[3, 9],\n",
    "[4, 6],\n",
    "[4, 3],\n",
    "]).astype(float)\n",
    "array\n",
    "# column_values = ['x', 'y']\n",
    "# df = pd.DataFrame(data = array, columns = column_values)\n",
    "# df"
   ]
  },
  {
   "cell_type": "code",
   "execution_count": 3,
   "id": "d401f80c",
   "metadata": {},
   "outputs": [
    {
     "data": {
      "text/plain": [
       "array([[0., 0., 0., 0., 0.],\n",
       "       [0., 0., 0., 0., 0.],\n",
       "       [0., 0., 0., 0., 0.],\n",
       "       [0., 0., 0., 0., 0.],\n",
       "       [0., 0., 0., 0., 0.]])"
      ]
     },
     "execution_count": 3,
     "metadata": {},
     "output_type": "execute_result"
    }
   ],
   "source": [
    "distances = np.array([[0]*len(array)]*len(array)).astype(float)\n",
    "distances"
   ]
  },
  {
   "cell_type": "code",
   "execution_count": 4,
   "id": "1183353e",
   "metadata": {},
   "outputs": [
    {
     "data": {
      "text/plain": [
       "[[0], [1], [2], [3], [4]]"
      ]
     },
     "execution_count": 4,
     "metadata": {},
     "output_type": "execute_result"
    }
   ],
   "source": [
    "clusters = []\n",
    "for i in range(len(distances)):\n",
    "    clusters.append([i])\n",
    "clusters"
   ]
  },
  {
   "cell_type": "code",
   "execution_count": 5,
   "id": "7b39008d",
   "metadata": {},
   "outputs": [],
   "source": [
    "def euclidean(a, b):\n",
    "    d = round(((a[0]-b[0])**2 + (a[1]-b[1])**2)**0.5, 1)\n",
    "    return d"
   ]
  },
  {
   "cell_type": "code",
   "execution_count": 6,
   "id": "df44c7ad",
   "metadata": {},
   "outputs": [
    {
     "name": "stdout",
     "output_type": "stream",
     "text": [
      "[[0.  3.2 8.2 5.8 3.6]\n",
      " [3.2 0.  5.1 2.8 2.2]\n",
      " [8.2 5.1 0.  3.2 6.1]\n",
      " [5.8 2.8 3.2 0.  3. ]\n",
      " [3.6 2.2 6.1 3.  0. ]]\n"
     ]
    }
   ],
   "source": [
    "for i in range(len(distances)):\n",
    "    for j in range(len(distances[i])):\n",
    "        distances[i][j] = euclidean(array[i], array[j])\n",
    "print(distances)"
   ]
  },
  {
   "cell_type": "code",
   "execution_count": 7,
   "id": "803a3725",
   "metadata": {},
   "outputs": [],
   "source": [
    "def find_min_in_matrix(distances):\n",
    "    mini = 0\n",
    "    minj = 0\n",
    "    minval = 1000\n",
    "    for i in range(len(distances)):\n",
    "        for j in range(len(distances[i])):\n",
    "            if i>j:\n",
    "                if minval > distances[i][j]:\n",
    "                    minval = distances[i][j];\n",
    "                    mini = i\n",
    "                    minj = j\n",
    "    return [minval, mini, minj]"
   ]
  },
  {
   "cell_type": "code",
   "execution_count": 8,
   "id": "e925262c",
   "metadata": {},
   "outputs": [
    {
     "name": "stdout",
     "output_type": "stream",
     "text": [
      "2.2   4   1\n"
     ]
    }
   ],
   "source": [
    "minval, mini, minj = find_min_in_matrix(distances)\n",
    "print(minval, ' ', mini, ' ', minj)"
   ]
  },
  {
   "cell_type": "code",
   "execution_count": 9,
   "id": "de9c562c",
   "metadata": {},
   "outputs": [
    {
     "data": {
      "text/plain": [
       "array([[0. , 3.2, 8.2, 5.8, 3.6, 0. ],\n",
       "       [3.2, 0. , 5.1, 2.8, 2.2, 0. ],\n",
       "       [8.2, 5.1, 0. , 3.2, 6.1, 0. ],\n",
       "       [5.8, 2.8, 3.2, 0. , 3. , 0. ],\n",
       "       [3.6, 2.2, 6.1, 3. , 0. , 0. ],\n",
       "       [0. , 0. , 0. , 0. , 0. , 0. ]])"
      ]
     },
     "execution_count": 9,
     "metadata": {},
     "output_type": "execute_result"
    }
   ],
   "source": [
    "newcol = np.array([0]*len(distances))\n",
    "distances = np.hstack((distances, np.atleast_2d(newcol).T))\n",
    "newrow = np.array([0]*len(distances[0]))\n",
    "distances = np.vstack((distances, np.atleast_2d(newrow)))\n",
    "distances"
   ]
  },
  {
   "cell_type": "code",
   "execution_count": 10,
   "id": "52e8dbf1",
   "metadata": {},
   "outputs": [],
   "source": [
    "def fill_matrix(distances, mini, minj):\n",
    "    for i in range(len(distances)):\n",
    "        if (i != mini and i != minj):\n",
    "            distances[len(distances)-1][i] = min(distances[mini][i], distances[minj][i])\n"
   ]
  },
  {
   "cell_type": "code",
   "execution_count": 11,
   "id": "4256676d",
   "metadata": {},
   "outputs": [
    {
     "data": {
      "text/plain": [
       "array([[0. , 3.2, 8.2, 5.8, 3.6, 3.2],\n",
       "       [3.2, 0. , 5.1, 2.8, 2.2, 0. ],\n",
       "       [8.2, 5.1, 0. , 3.2, 6.1, 5.1],\n",
       "       [5.8, 2.8, 3.2, 0. , 3. , 2.8],\n",
       "       [3.6, 2.2, 6.1, 3. , 0. , 0. ],\n",
       "       [3.2, 0. , 5.1, 2.8, 0. , 0. ]])"
      ]
     },
     "execution_count": 11,
     "metadata": {},
     "output_type": "execute_result"
    }
   ],
   "source": [
    "fill_matrix(distances, mini, minj)\n",
    "distances"
   ]
  },
  {
   "cell_type": "code",
   "execution_count": 12,
   "id": "68a5a18f",
   "metadata": {},
   "outputs": [
    {
     "data": {
      "text/plain": [
       "array([[0. , 8.2, 5.8, 3.2],\n",
       "       [8.2, 0. , 3.2, 5.1],\n",
       "       [5.8, 3.2, 0. , 2.8],\n",
       "       [3.2, 5.1, 2.8, 0. ]])"
      ]
     },
     "execution_count": 12,
     "metadata": {},
     "output_type": "execute_result"
    }
   ],
   "source": [
    "first = min(mini, minj)\n",
    "second = max(mini, minj)\n",
    "distances = np.delete(distances, first, 1)\n",
    "distances = np.delete(distances, first, 0)\n",
    "distances = np.delete(distances, second-1, 1)\n",
    "distances = np.delete(distances, second-1, 0)\n",
    "distances"
   ]
  },
  {
   "cell_type": "code",
   "execution_count": 13,
   "id": "fc67e64f",
   "metadata": {},
   "outputs": [
    {
     "name": "stdout",
     "output_type": "stream",
     "text": [
      "2.8   3   2\n"
     ]
    }
   ],
   "source": [
    "minval, mini, minj = find_min_in_matrix(distances)\n",
    "print(minval, ' ', mini, ' ', minj)"
   ]
  },
  {
   "cell_type": "code",
   "execution_count": 14,
   "id": "43282a57",
   "metadata": {},
   "outputs": [
    {
     "data": {
      "text/plain": [
       "array([[0. , 8.2, 5.8, 3.2, 0. ],\n",
       "       [8.2, 0. , 3.2, 5.1, 0. ],\n",
       "       [5.8, 3.2, 0. , 2.8, 0. ],\n",
       "       [3.2, 5.1, 2.8, 0. , 0. ],\n",
       "       [0. , 0. , 0. , 0. , 0. ]])"
      ]
     },
     "execution_count": 14,
     "metadata": {},
     "output_type": "execute_result"
    }
   ],
   "source": [
    "newcol = np.array([0]*len(distances))\n",
    "distances = np.hstack((distances, np.atleast_2d(newcol).T))\n",
    "newrow = np.array([0]*len(distances[0]))\n",
    "distances = np.vstack((distances, np.atleast_2d(newrow)))\n",
    "distances"
   ]
  },
  {
   "cell_type": "code",
   "execution_count": 15,
   "id": "a64e6eff",
   "metadata": {},
   "outputs": [
    {
     "data": {
      "text/plain": [
       "array([[0. , 8.2, 5.8, 3.2, 3.2],\n",
       "       [8.2, 0. , 3.2, 5.1, 3.2],\n",
       "       [5.8, 3.2, 0. , 2.8, 0. ],\n",
       "       [3.2, 5.1, 2.8, 0. , 0. ],\n",
       "       [3.2, 3.2, 0. , 0. , 0. ]])"
      ]
     },
     "execution_count": 15,
     "metadata": {},
     "output_type": "execute_result"
    }
   ],
   "source": [
    "fill_matrix(distances, mini, minj)\n",
    "distances"
   ]
  },
  {
   "cell_type": "code",
   "execution_count": 16,
   "id": "e887208b",
   "metadata": {},
   "outputs": [
    {
     "data": {
      "text/plain": [
       "array([[0. , 8.2, 3.2],\n",
       "       [8.2, 0. , 3.2],\n",
       "       [3.2, 3.2, 0. ]])"
      ]
     },
     "execution_count": 16,
     "metadata": {},
     "output_type": "execute_result"
    }
   ],
   "source": [
    "first = min(mini, minj)\n",
    "second = max(mini, minj)\n",
    "distances = np.delete(distances, first, 1)\n",
    "distances = np.delete(distances, first, 0)\n",
    "distances = np.delete(distances, second-1, 1)\n",
    "distances = np.delete(distances, second-1, 0)\n",
    "distances"
   ]
  },
  {
   "cell_type": "code",
   "execution_count": 17,
   "id": "7a8fd169",
   "metadata": {},
   "outputs": [
    {
     "name": "stdout",
     "output_type": "stream",
     "text": [
      "3.2   2   0\n"
     ]
    }
   ],
   "source": [
    "minval, mini, minj = find_min_in_matrix(distances)\n",
    "print(minval, ' ', mini, ' ', minj)"
   ]
  },
  {
   "cell_type": "code",
   "execution_count": 18,
   "id": "d6dfe8b7",
   "metadata": {},
   "outputs": [
    {
     "data": {
      "text/plain": [
       "array([[0. , 8.2, 3.2, 0. ],\n",
       "       [8.2, 0. , 3.2, 0. ],\n",
       "       [3.2, 3.2, 0. , 0. ],\n",
       "       [0. , 0. , 0. , 0. ]])"
      ]
     },
     "execution_count": 18,
     "metadata": {},
     "output_type": "execute_result"
    }
   ],
   "source": [
    "newcol = np.array([0]*len(distances))\n",
    "distances = np.hstack((distances, np.atleast_2d(newcol).T))\n",
    "newrow = np.array([0]*len(distances[0]))\n",
    "distances = np.vstack((distances, np.atleast_2d(newrow)))\n",
    "distances"
   ]
  },
  {
   "cell_type": "code",
   "execution_count": 19,
   "id": "8b932de4",
   "metadata": {},
   "outputs": [
    {
     "data": {
      "text/plain": [
       "array([[0. , 8.2, 3.2, 0. ],\n",
       "       [8.2, 0. , 3.2, 3.2],\n",
       "       [3.2, 3.2, 0. , 0. ],\n",
       "       [0. , 3.2, 0. , 0. ]])"
      ]
     },
     "execution_count": 19,
     "metadata": {},
     "output_type": "execute_result"
    }
   ],
   "source": [
    "fill_matrix(distances, mini, minj)\n",
    "distances"
   ]
  },
  {
   "cell_type": "code",
   "execution_count": 20,
   "id": "dd1d0449",
   "metadata": {},
   "outputs": [
    {
     "data": {
      "text/plain": [
       "array([[0. , 3.2],\n",
       "       [3.2, 0. ]])"
      ]
     },
     "execution_count": 20,
     "metadata": {},
     "output_type": "execute_result"
    }
   ],
   "source": [
    "first = min(mini, minj)\n",
    "second = max(mini, minj)\n",
    "distances = np.delete(distances, first, 1)\n",
    "distances = np.delete(distances, first, 0)\n",
    "distances = np.delete(distances, second-1, 1)\n",
    "distances = np.delete(distances, second-1, 0)\n",
    "distances"
   ]
  },
  {
   "cell_type": "code",
   "execution_count": null,
   "id": "a943e4d4",
   "metadata": {},
   "outputs": [],
   "source": []
  }
 ],
 "metadata": {
  "kernelspec": {
   "display_name": "Python 3 (ipykernel)",
   "language": "python",
   "name": "python3"
  },
  "language_info": {
   "codemirror_mode": {
    "name": "ipython",
    "version": 3
   },
   "file_extension": ".py",
   "mimetype": "text/x-python",
   "name": "python",
   "nbconvert_exporter": "python",
   "pygments_lexer": "ipython3",
   "version": "3.9.13"
  }
 },
 "nbformat": 4,
 "nbformat_minor": 5
}
