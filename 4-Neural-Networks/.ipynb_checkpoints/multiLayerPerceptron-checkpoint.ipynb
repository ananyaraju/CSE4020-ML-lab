{
 "cells": [
  {
   "cell_type": "code",
   "execution_count": 2,
   "id": "43811f41",
   "metadata": {},
   "outputs": [],
   "source": [
    "import numpy as np"
   ]
  },
  {
   "cell_type": "code",
   "execution_count": 3,
   "id": "037a3926",
   "metadata": {},
   "outputs": [],
   "source": [
    "# Define the input data\n",
    "x1, x2 = 0.35, 0.9\n",
    "actual_output = 0.5"
   ]
  },
  {
   "cell_type": "code",
   "execution_count": 4,
   "id": "a42cc44f",
   "metadata": {},
   "outputs": [],
   "source": [
    "# Initialize weights for the MLP\n",
    "w13, w14, w23, w24, w35, w45 = 0.1, 0.4, 0.8, 0.6, 0.3, 0.9\n",
    "\n",
    "# Learning rate\n",
    "learning_rate = 1.0\n",
    "\n",
    "# Number of training iterations (epochs)\n",
    "epochs = 1"
   ]
  },
  {
   "cell_type": "code",
   "execution_count": 5,
   "id": "fdd558b1",
   "metadata": {},
   "outputs": [],
   "source": [
    "# Training loop\n",
    "for epoch in range(epochs):\n",
    "    \n",
    "    # Forward pass\n",
    "    h3_input = x1 * w13 + x2 * w23\n",
    "    h4_input = x1 * w14 + x2 * w24\n",
    "    \n",
    "    h3 = 1 / (1 + np.exp(-h3_input))\n",
    "    h4 = 1 / (1 + np.exp(-h4_input))\n",
    "    \n",
    "    x5_input = h3 * w35 + h4 * w45\n",
    "    x5_output = 1 / (1 + np.exp(-x5_input))\n",
    "    \n",
    "    # Compute the error\n",
    "    error = actual_output - x5_output\n",
    "    \n",
    "    # Backpropagation\n",
    "    delta_x5 = error * x5_output * (1 - x5_output)\n",
    "    delta_h3 = delta_x5 * w35 * h3 * (1 - h3)\n",
    "    delta_h4 = delta_x5 * w45 * h4 * (1 - h4)\n",
    "    \n",
    "    # Update weights\n",
    "    w13 += learning_rate * delta_h3 * x1\n",
    "    w14 += learning_rate * delta_h4 * x1\n",
    "    w23 += learning_rate * delta_h3 * x2\n",
    "    w24 += learning_rate * delta_h4 * x2\n",
    "    w35 += learning_rate * delta_x5 * h3\n",
    "    w45 += learning_rate * delta_x5 * h4"
   ]
  },
  {
   "cell_type": "code",
   "execution_count": 6,
   "id": "5c116398",
   "metadata": {},
   "outputs": [
    {
     "name": "stdout",
     "output_type": "stream",
     "text": [
      "Final updated weights:\n",
      "w13 = 0.09907092883919034\n",
      "w14 = 0.39713992422755456\n",
      "w23 = 0.7976109598722038\n",
      "w24 = 0.592645519442283\n",
      "w35 = 0.27232596506128215\n",
      "w45 = 0.8729983630089926\n"
     ]
    }
   ],
   "source": [
    "# Print the final updated weights\n",
    "print(\"Final updated weights:\")\n",
    "print(\"w13 =\", w13)\n",
    "print(\"w14 =\", w14)\n",
    "print(\"w23 =\", w23)\n",
    "print(\"w24 =\", w24)\n",
    "print(\"w35 =\", w35)\n",
    "print(\"w45 =\", w45)"
   ]
  },
  {
   "cell_type": "code",
   "execution_count": null,
   "id": "b1ddeb4b",
   "metadata": {},
   "outputs": [],
   "source": []
  }
 ],
 "metadata": {
  "kernelspec": {
   "display_name": "Python 3 (ipykernel)",
   "language": "python",
   "name": "python3"
  },
  "language_info": {
   "codemirror_mode": {
    "name": "ipython",
    "version": 3
   },
   "file_extension": ".py",
   "mimetype": "text/x-python",
   "name": "python",
   "nbconvert_exporter": "python",
   "pygments_lexer": "ipython3",
   "version": "3.9.13"
  }
 },
 "nbformat": 4,
 "nbformat_minor": 5
}
