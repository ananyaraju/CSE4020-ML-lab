{
 "cells": [
  {
   "cell_type": "code",
   "execution_count": 1,
   "id": "3fa29003",
   "metadata": {},
   "outputs": [],
   "source": [
    "import numpy as np\n",
    "from sklearn.linear_model import LinearRegression"
   ]
  },
  {
   "cell_type": "code",
   "execution_count": 2,
   "id": "d0bfc365",
   "metadata": {},
   "outputs": [],
   "source": [
    "X = np.array([-1, 0, 1, 2]).reshape(-1, 1) \n",
    "y = np.array([0, 2, 4, 5])"
   ]
  },
  {
   "cell_type": "code",
   "execution_count": 3,
   "id": "2a9b4ece",
   "metadata": {},
   "outputs": [
    {
     "data": {
      "text/plain": [
       "LinearRegression()"
      ]
     },
     "execution_count": 3,
     "metadata": {},
     "output_type": "execute_result"
    }
   ],
   "source": [
    "# Create a linear regression model\n",
    "model = LinearRegression()\n",
    "\n",
    "# Fit the model to the data\n",
    "model.fit(X, y)"
   ]
  },
  {
   "cell_type": "code",
   "execution_count": 4,
   "id": "da17a7f1",
   "metadata": {},
   "outputs": [],
   "source": [
    "# Make predictions\n",
    "X_new = np.array([6]).reshape(-1, 1)\n",
    "predicted_y = model.predict(X_new)"
   ]
  },
  {
   "cell_type": "code",
   "execution_count": 5,
   "id": "44dbb612",
   "metadata": {},
   "outputs": [
    {
     "name": "stdout",
     "output_type": "stream",
     "text": [
      "Intercept: 1.9\n",
      "Slope (Coefficient): [1.7]\n"
     ]
    }
   ],
   "source": [
    "# Print the coefficients and the prediction\n",
    "print(f'Intercept: {model.intercept_}')\n",
    "print(f'Slope (Coefficient): {model.coef_}')"
   ]
  },
  {
   "cell_type": "code",
   "execution_count": 6,
   "id": "c889d14e",
   "metadata": {},
   "outputs": [
    {
     "name": "stdout",
     "output_type": "stream",
     "text": [
      "Predicted value for X = 6: 12.100000000000003\n"
     ]
    }
   ],
   "source": [
    "print(f'Predicted value for X = 6: {predicted_y[0]}')"
   ]
  },
  {
   "cell_type": "code",
   "execution_count": null,
   "id": "cd742022",
   "metadata": {},
   "outputs": [],
   "source": []
  }
 ],
 "metadata": {
  "kernelspec": {
   "display_name": "Python 3 (ipykernel)",
   "language": "python",
   "name": "python3"
  },
  "language_info": {
   "codemirror_mode": {
    "name": "ipython",
    "version": 3
   },
   "file_extension": ".py",
   "mimetype": "text/x-python",
   "name": "python",
   "nbconvert_exporter": "python",
   "pygments_lexer": "ipython3",
   "version": "3.9.13"
  }
 },
 "nbformat": 4,
 "nbformat_minor": 5
}
